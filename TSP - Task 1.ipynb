{
 "cells": [
  {
   "cell_type": "markdown",
   "id": "9e9c70de",
   "metadata": {},
   "source": [
    "# Task - 1"
   ]
  },
  {
   "cell_type": "markdown",
   "id": "648f3996",
   "metadata": {},
   "source": [
    "## Prediction using Supervised Machine Learning"
   ]
  },
  {
   "cell_type": "markdown",
   "id": "7595bf74",
   "metadata": {},
   "source": [
    "## #GRIPNOVEMBER22"
   ]
  },
  {
   "cell_type": "markdown",
   "id": "57cdafd7",
   "metadata": {},
   "source": [
    "### Name: MOHAMMAD ADNAN\n",
    "### Email: mohammadadnan7549@gmail.com"
   ]
  },
  {
   "cell_type": "code",
   "execution_count": 2,
   "id": "13a63f13",
   "metadata": {},
   "outputs": [],
   "source": [
    "# Importing all the required libraries.\n",
    "import numpy as np\n",
    "import pandas as pd\n",
    "import matplotlib.pyplot as plt"
   ]
  },
  {
   "cell_type": "code",
   "execution_count": 7,
   "id": "1cc78cc1",
   "metadata": {},
   "outputs": [
    {
     "data": {
      "text/html": [
       "<div>\n",
       "<style scoped>\n",
       "    .dataframe tbody tr th:only-of-type {\n",
       "        vertical-align: middle;\n",
       "    }\n",
       "\n",
       "    .dataframe tbody tr th {\n",
       "        vertical-align: top;\n",
       "    }\n",
       "\n",
       "    .dataframe thead th {\n",
       "        text-align: right;\n",
       "    }\n",
       "</style>\n",
       "<table border=\"1\" class=\"dataframe\">\n",
       "  <thead>\n",
       "    <tr style=\"text-align: right;\">\n",
       "      <th></th>\n",
       "      <th>Hours</th>\n",
       "      <th>Scores</th>\n",
       "    </tr>\n",
       "  </thead>\n",
       "  <tbody>\n",
       "    <tr>\n",
       "      <th>0</th>\n",
       "      <td>2.5</td>\n",
       "      <td>21</td>\n",
       "    </tr>\n",
       "    <tr>\n",
       "      <th>1</th>\n",
       "      <td>5.1</td>\n",
       "      <td>47</td>\n",
       "    </tr>\n",
       "    <tr>\n",
       "      <th>2</th>\n",
       "      <td>3.2</td>\n",
       "      <td>27</td>\n",
       "    </tr>\n",
       "    <tr>\n",
       "      <th>3</th>\n",
       "      <td>8.5</td>\n",
       "      <td>75</td>\n",
       "    </tr>\n",
       "    <tr>\n",
       "      <th>4</th>\n",
       "      <td>3.5</td>\n",
       "      <td>30</td>\n",
       "    </tr>\n",
       "  </tbody>\n",
       "</table>\n",
       "</div>"
      ],
      "text/plain": [
       "   Hours  Scores\n",
       "0    2.5      21\n",
       "1    5.1      47\n",
       "2    3.2      27\n",
       "3    8.5      75\n",
       "4    3.5      30"
      ]
     },
     "execution_count": 7,
     "metadata": {},
     "output_type": "execute_result"
    }
   ],
   "source": [
    "# Reading csv file directly through url.\n",
    "\n",
    "url=\"http://bit.ly/w-data\"\n",
    "df = pd.read_csv(url)\n",
    "df.head()"
   ]
  },
  {
   "cell_type": "markdown",
   "id": "f9c8a2bf",
   "metadata": {},
   "source": [
    "Lets analyse the relationship between Hours and Scores graphically."
   ]
  },
  {
   "cell_type": "code",
   "execution_count": 23,
   "id": "3686bc08",
   "metadata": {},
   "outputs": [
    {
     "data": {
      "image/png": "[encoded data removed]",
      "text/plain": [
       "<Figure size 432x288 with 1 Axes>"
      ]
     },
     "metadata": {
      "needs_background": "light"
     },
     "output_type": "display_data"
    }
   ],
   "source": [
    "plt.scatter(df['Hours'],df['Scores'],color='green')\n",
    "plt.title(\"Hours vs Percentage\")\n",
    "plt.xlabel('Hours')\n",
    "plt.ylabel('Percentage')\n",
    "plt.show()"
   ]
  },
  {
   "cell_type": "markdown",
   "id": "f781ca7d",
   "metadata": {},
   "source": [
    "From the graph above, we can clearly see that there is a linear regression between Hours studied by the student and the Percentage of score."
   ]
  },
  {
   "cell_type": "markdown",
   "id": "79f12f7d",
   "metadata": {},
   "source": [
    "## Data Preparation"
   ]
  },
  {
   "cell_type": "markdown",
   "id": "5c6ea5d0",
   "metadata": {},
   "source": [
    "Now, divide the data in two parts: input(Hours) and output(Percentage)"
   ]
  },
  {
   "cell_type": "code",
   "execution_count": 48,
   "id": "2c8c478a",
   "metadata": {},
   "outputs": [],
   "source": [
    "X = df.iloc[:, :-1].values\n",
    "y = df.iloc[:,1].values"
   ]
  },
  {
   "cell_type": "code",
   "execution_count": 51,
   "id": "9d36548d",
   "metadata": {},
   "outputs": [
    {
     "name": "stdout",
     "output_type": "stream",
     "text": [
      "[[2.5]\n",
      " [5.1]\n",
      " [3.2]\n",
      " [8.5]\n",
      " [3.5]\n",
      " [1.5]\n",
      " [9.2]\n",
      " [5.5]\n",
      " [8.3]\n",
      " [2.7]\n",
      " [7.7]\n",
      " [5.9]\n",
      " [4.5]\n",
      " [3.3]\n",
      " [1.1]\n",
      " [8.9]\n",
      " [2.5]\n",
      " [1.9]\n",
      " [6.1]\n",
      " [7.4]\n",
      " [2.7]\n",
      " [4.8]\n",
      " [3.8]\n",
      " [6.9]\n",
      " [7.8]]\n"
     ]
    }
   ],
   "source": [
    "print(X)"
   ]
  },
  {
   "cell_type": "code",
   "execution_count": 52,
   "id": "aa65e66c",
   "metadata": {},
   "outputs": [
    {
     "name": "stdout",
     "output_type": "stream",
     "text": [
      "[21 47 27 75 30 20 88 60 81 25 85 62 41 42 17 95 30 24 67 69 30 54 35 76\n",
      " 86]\n"
     ]
    }
   ],
   "source": [
    "print(y)"
   ]
  },
  {
   "cell_type": "markdown",
   "id": "84fe3f96",
   "metadata": {},
   "source": [
    "Now, we have our input and output labels.\n",
    "The next step we will split the dataset into training and testing datasets.And for this we will use Scikit-Learn's built-in train_test_split() method:"
   ]
  },
  {
   "cell_type": "markdown",
   "id": "51eef060",
   "metadata": {},
   "source": [
    "## Splitting the data into Test and Train"
   ]
  },
  {
   "cell_type": "code",
   "execution_count": 55,
   "id": "3be93f37",
   "metadata": {},
   "outputs": [],
   "source": [
    "from sklearn.model_selection import train_test_split\n",
    "X_train,X_test,y_train,y_test = train_test_split(X,y,test_size=0.2, random_state=42)"
   ]
  },
  {
   "cell_type": "code",
   "execution_count": 56,
   "id": "ada531aa",
   "metadata": {},
   "outputs": [
    {
     "data": {
      "text/plain": [
       "array([[2.7],\n",
       "       [3.3],\n",
       "       [5.1],\n",
       "       [3.8],\n",
       "       [1.5],\n",
       "       [3.2],\n",
       "       [4.5],\n",
       "       [8.9],\n",
       "       [8.5],\n",
       "       [3.5],\n",
       "       [2.7],\n",
       "       [1.9],\n",
       "       [4.8],\n",
       "       [6.1],\n",
       "       [7.8],\n",
       "       [5.5],\n",
       "       [7.7],\n",
       "       [1.1],\n",
       "       [7.4],\n",
       "       [9.2]])"
      ]
     },
     "execution_count": 56,
     "metadata": {},
     "output_type": "execute_result"
    }
   ],
   "source": [
    "X_train"
   ]
  },
  {
   "cell_type": "code",
   "execution_count": 57,
   "id": "bc7ffb3f",
   "metadata": {},
   "outputs": [
    {
     "data": {
      "text/plain": [
       "array([[8.3],\n",
       "       [2.5],\n",
       "       [2.5],\n",
       "       [6.9],\n",
       "       [5.9]])"
      ]
     },
     "execution_count": 57,
     "metadata": {},
     "output_type": "execute_result"
    }
   ],
   "source": [
    "X_test"
   ]
  },
  {
   "cell_type": "code",
   "execution_count": 58,
   "id": "c243baaa",
   "metadata": {},
   "outputs": [
    {
     "data": {
      "text/plain": [
       "array([25, 42, 47, 35, 20, 27, 41, 95, 75, 30, 30, 24, 54, 67, 86, 60, 85,\n",
       "       17, 69, 88], dtype=int64)"
      ]
     },
     "execution_count": 58,
     "metadata": {},
     "output_type": "execute_result"
    }
   ],
   "source": [
    "y_train"
   ]
  },
  {
   "cell_type": "code",
   "execution_count": 59,
   "id": "3caba3e4",
   "metadata": {},
   "outputs": [
    {
     "data": {
      "text/plain": [
       "array([81, 30, 21, 76, 62], dtype=int64)"
      ]
     },
     "execution_count": 59,
     "metadata": {},
     "output_type": "execute_result"
    }
   ],
   "source": [
    "y_test"
   ]
  },
  {
   "cell_type": "markdown",
   "id": "3d5ea2c2",
   "metadata": {},
   "source": [
    "## Training our Linear Regression Algorithm"
   ]
  },
  {
   "cell_type": "markdown",
   "id": "f318115f",
   "metadata": {},
   "source": [
    "We have now split our data into train and test, it's time to train our model."
   ]
  },
  {
   "cell_type": "code",
   "execution_count": 60,
   "id": "47baeaed",
   "metadata": {},
   "outputs": [
    {
     "data": {
      "text/plain": [
       "LinearRegression()"
      ]
     },
     "execution_count": 60,
     "metadata": {},
     "output_type": "execute_result"
    }
   ],
   "source": [
    "from sklearn.linear_model import LinearRegression\n",
    "linReg_model = LinearRegression()\n",
    "linReg_model.fit(X_train,y_train)"
   ]
  },
  {
   "cell_type": "code",
   "execution_count": 61,
   "id": "ba78ce7b",
   "metadata": {},
   "outputs": [],
   "source": [
    "# Equation of the regression line\n",
    "\n",
    "a = linReg_model.coef_\n",
    "c = linReg_model.intercept_\n",
    "b = a*X + c"
   ]
  },
  {
   "cell_type": "code",
   "execution_count": 62,
   "id": "3b86093c",
   "metadata": {},
   "outputs": [
    {
     "data": {
      "image/png": "[encoded data removed]",
      "text/plain": [
       "<Figure size 432x288 with 1 Axes>"
      ]
     },
     "metadata": {
      "needs_background": "light"
     },
     "output_type": "display_data"
    }
   ],
   "source": [
    "#plotting the regression line\n",
    "plt.plot(X,b)\n",
    "plt.show()"
   ]
  },
  {
   "cell_type": "code",
   "execution_count": 70,
   "id": "4a31ad47",
   "metadata": {},
   "outputs": [
    {
     "data": {
      "image/png": "[encoded data removed]",
      "text/plain": [
       "<Figure size 432x288 with 1 Axes>"
      ]
     },
     "metadata": {
      "needs_background": "light"
     },
     "output_type": "display_data"
    }
   ],
   "source": [
    "# scatter plot and regression line of the data\n",
    "\n",
    "plt.scatter(X,y,c='green')\n",
    "plt.plot(X,b)\n",
    "plt.xlabel('Hours')\n",
    "plt.ylabel('Percentage')\n",
    "plt.show()"
   ]
  },
  {
   "cell_type": "markdown",
   "id": "a68f96ea",
   "metadata": {},
   "source": [
    "## Making prediction"
   ]
  },
  {
   "cell_type": "markdown",
   "id": "8866ea53",
   "metadata": {},
   "source": [
    "Now we have trained our regression model. Let's predict for some inputs and check our model accuracy."
   ]
  },
  {
   "cell_type": "code",
   "execution_count": 87,
   "id": "273c8440",
   "metadata": {},
   "outputs": [],
   "source": [
    "y_prediction = linReg_model.predict(X_test)"
   ]
  },
  {
   "cell_type": "code",
   "execution_count": 93,
   "id": "128b0c73",
   "metadata": {},
   "outputs": [
    {
     "data": {
      "text/plain": [
       "array([83.18814104, 27.03208774, 27.03208774, 69.63323162, 59.95115347])"
      ]
     },
     "execution_count": 93,
     "metadata": {},
     "output_type": "execute_result"
    }
   ],
   "source": [
    "y_prediction"
   ]
  },
  {
   "cell_type": "code",
   "execution_count": 94,
   "id": "7243c395",
   "metadata": {},
   "outputs": [],
   "source": [
    "# Comparing the Actual and Predicted score percentage.\n",
    "\n",
    "df2 = pd.DataFrame({'Actual':y_test, 'Predicted': y_prediction})"
   ]
  },
  {
   "cell_type": "code",
   "execution_count": 95,
   "id": "51305e29",
   "metadata": {},
   "outputs": [
    {
     "data": {
      "text/html": [
       "<div>\n",
       "<style scoped>\n",
       "    .dataframe tbody tr th:only-of-type {\n",
       "        vertical-align: middle;\n",
       "    }\n",
       "\n",
       "    .dataframe tbody tr th {\n",
       "        vertical-align: top;\n",
       "    }\n",
       "\n",
       "    .dataframe thead th {\n",
       "        text-align: right;\n",
       "    }\n",
       "</style>\n",
       "<table border=\"1\" class=\"dataframe\">\n",
       "  <thead>\n",
       "    <tr style=\"text-align: right;\">\n",
       "      <th></th>\n",
       "      <th>Actual</th>\n",
       "      <th>Predicted</th>\n",
       "    </tr>\n",
       "  </thead>\n",
       "  <tbody>\n",
       "    <tr>\n",
       "      <th>0</th>\n",
       "      <td>81</td>\n",
       "      <td>83.188141</td>\n",
       "    </tr>\n",
       "    <tr>\n",
       "      <th>1</th>\n",
       "      <td>30</td>\n",
       "      <td>27.032088</td>\n",
       "    </tr>\n",
       "    <tr>\n",
       "      <th>2</th>\n",
       "      <td>21</td>\n",
       "      <td>27.032088</td>\n",
       "    </tr>\n",
       "    <tr>\n",
       "      <th>3</th>\n",
       "      <td>76</td>\n",
       "      <td>69.633232</td>\n",
       "    </tr>\n",
       "    <tr>\n",
       "      <th>4</th>\n",
       "      <td>62</td>\n",
       "      <td>59.951153</td>\n",
       "    </tr>\n",
       "  </tbody>\n",
       "</table>\n",
       "</div>"
      ],
      "text/plain": [
       "   Actual  Predicted\n",
       "0      81  83.188141\n",
       "1      30  27.032088\n",
       "2      21  27.032088\n",
       "3      76  69.633232\n",
       "4      62  59.951153"
      ]
     },
     "execution_count": 95,
     "metadata": {},
     "output_type": "execute_result"
    }
   ],
   "source": [
    "df2"
   ]
  },
  {
   "cell_type": "markdown",
   "id": "08d56a41",
   "metadata": {},
   "source": [
    "## Question: What will be the predicted score if the student studies for 9.25hrs/day?"
   ]
  },
  {
   "cell_type": "code",
   "execution_count": 109,
   "id": "85ef404c",
   "metadata": {},
   "outputs": [],
   "source": [
    "hours = 9.25\n",
    "our_pred = linReg_model.predict([[hours]])"
   ]
  },
  {
   "cell_type": "code",
   "execution_count": 113,
   "id": "38ccec0f",
   "metadata": {},
   "outputs": [],
   "source": [
    "our_pred = our_pred[0]"
   ]
  },
  {
   "cell_type": "code",
   "execution_count": 114,
   "id": "b8ad6f2f",
   "metadata": {},
   "outputs": [
    {
     "name": "stdout",
     "output_type": "stream",
     "text": [
      "No. of hours: 9.25\n",
      "No. of predicted score: 92.38611528261494\n"
     ]
    }
   ],
   "source": [
    "print('No. of hours: {}'.format(hours))\n",
    "print('No. of predicted score: {}'.format(our_pred))"
   ]
  },
  {
   "cell_type": "markdown",
   "id": "3e800ddd",
   "metadata": {},
   "source": [
    "## Model Evaluations:"
   ]
  },
  {
   "cell_type": "markdown",
   "id": "bbd30cbb",
   "metadata": {},
   "source": [
    "It is our final step, in which by using some metrices we will evaluate our model performance. Hence it is very important step."
   ]
  },
  {
   "cell_type": "code",
   "execution_count": 119,
   "id": "ff75474e",
   "metadata": {},
   "outputs": [
    {
     "name": "stdout",
     "output_type": "stream",
     "text": [
      "Mean Absolute Error: 3.9207511902099244\n",
      "Mean Square Error: 18.943211722315272\n",
      "R-Squared score: 0.9678055545167994\n"
     ]
    }
   ],
   "source": [
    "from sklearn import metrics\n",
    "\n",
    "print('Mean Absolute Error: {}'.format(metrics.mean_absolute_error(y_test,y_prediction)))\n",
    "print('Mean Square Error: {}'.format(metrics.mean_squared_error(y_test,y_prediction)))\n",
    "print('R-Squared score: {}'.format(metrics.r2_score(y_test,y_prediction)))\n",
    "\n",
    "\n"
   ]
  },
  {
   "cell_type": "markdown",
   "id": "46ca8ae9",
   "metadata": {},
   "source": [
    "As evaluated, the Mean Absolute Error and Mean Square Error are very less. Hence performance of the model is very good and accurate.\n",
    "Also R-Squared score is very much closer to 1, which means that the regression was able to capture ~97% of the variance in the target variable. "
   ]
  },
  {
   "cell_type": "code",
   "execution_count": null,
   "id": "3a0e7269",
   "metadata": {},
   "outputs": [],
   "source": []
  }
 ],
 "metadata": {
  "kernelspec": {
   "display_name": "Python 3 (ipykernel)",
   "language": "python",
   "name": "python3"
  },
  "language_info": {
   "codemirror_mode": {
    "name": "ipython",
    "version": 3
   },
   "file_extension": ".py",
   "mimetype": "text/x-python",
   "name": "python",
   "nbconvert_exporter": "python",
   "pygments_lexer": "ipython3",
   "version": "3.9.12"
  }
 },
 "nbformat": 4,
 "nbformat_minor": 5
}
